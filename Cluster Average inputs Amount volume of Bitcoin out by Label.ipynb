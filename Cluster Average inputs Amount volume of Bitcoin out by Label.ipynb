{
  "nbformat": 4,
  "nbformat_minor": 0,
  "metadata": {
    "colab": {
      "provenance": []
    },
    "kernelspec": {
      "name": "python3",
      "display_name": "Python 3"
    },
    "language_info": {
      "name": "python"
    }
  },
  "cells": [
    {
      "cell_type": "code",
      "source": [
        "pip install prince"
      ],
      "metadata": {
        "colab": {
          "base_uri": "https://localhost:8080/"
        },
        "id": "7wUip8OIre7o",
        "outputId": "2d94dfa2-d1b9-4642-a83c-7ba23907cadb"
      },
      "execution_count": 1,
      "outputs": [
        {
          "output_type": "stream",
          "name": "stdout",
          "text": [
            "Collecting prince\n",
            "  Downloading prince-0.12.0-py3-none-any.whl (415 kB)\n",
            "\u001b[2K     \u001b[90m━━━━━━━━━━━━━━━━━━━━━━━━━━━━━━━━━━━━━━━\u001b[0m \u001b[32m415.1/415.1 kB\u001b[0m \u001b[31m4.5 MB/s\u001b[0m eta \u001b[36m0:00:00\u001b[0m\n",
            "\u001b[?25hRequirement already satisfied: altair<6.0.0,>=4.2.2 in /usr/local/lib/python3.10/dist-packages (from prince) (4.2.2)\n",
            "Requirement already satisfied: pandas<3.0.0,>=1.4.1 in /usr/local/lib/python3.10/dist-packages (from prince) (1.5.3)\n",
            "Requirement already satisfied: scikit-learn<2.0.0,>=1.0.2 in /usr/local/lib/python3.10/dist-packages (from prince) (1.2.2)\n",
            "Requirement already satisfied: entrypoints in /usr/local/lib/python3.10/dist-packages (from altair<6.0.0,>=4.2.2->prince) (0.4)\n",
            "Requirement already satisfied: jinja2 in /usr/local/lib/python3.10/dist-packages (from altair<6.0.0,>=4.2.2->prince) (3.1.2)\n",
            "Requirement already satisfied: jsonschema>=3.0 in /usr/local/lib/python3.10/dist-packages (from altair<6.0.0,>=4.2.2->prince) (4.3.3)\n",
            "Requirement already satisfied: numpy in /usr/local/lib/python3.10/dist-packages (from altair<6.0.0,>=4.2.2->prince) (1.23.5)\n",
            "Requirement already satisfied: toolz in /usr/local/lib/python3.10/dist-packages (from altair<6.0.0,>=4.2.2->prince) (0.12.0)\n",
            "Requirement already satisfied: python-dateutil>=2.8.1 in /usr/local/lib/python3.10/dist-packages (from pandas<3.0.0,>=1.4.1->prince) (2.8.2)\n",
            "Requirement already satisfied: pytz>=2020.1 in /usr/local/lib/python3.10/dist-packages (from pandas<3.0.0,>=1.4.1->prince) (2022.7.1)\n",
            "Requirement already satisfied: scipy>=1.3.2 in /usr/local/lib/python3.10/dist-packages (from scikit-learn<2.0.0,>=1.0.2->prince) (1.10.1)\n",
            "Requirement already satisfied: joblib>=1.1.1 in /usr/local/lib/python3.10/dist-packages (from scikit-learn<2.0.0,>=1.0.2->prince) (1.3.1)\n",
            "Requirement already satisfied: threadpoolctl>=2.0.0 in /usr/local/lib/python3.10/dist-packages (from scikit-learn<2.0.0,>=1.0.2->prince) (3.2.0)\n",
            "Requirement already satisfied: attrs>=17.4.0 in /usr/local/lib/python3.10/dist-packages (from jsonschema>=3.0->altair<6.0.0,>=4.2.2->prince) (23.1.0)\n",
            "Requirement already satisfied: pyrsistent!=0.17.0,!=0.17.1,!=0.17.2,>=0.14.0 in /usr/local/lib/python3.10/dist-packages (from jsonschema>=3.0->altair<6.0.0,>=4.2.2->prince) (0.19.3)\n",
            "Requirement already satisfied: six>=1.5 in /usr/local/lib/python3.10/dist-packages (from python-dateutil>=2.8.1->pandas<3.0.0,>=1.4.1->prince) (1.16.0)\n",
            "Requirement already satisfied: MarkupSafe>=2.0 in /usr/local/lib/python3.10/dist-packages (from jinja2->altair<6.0.0,>=4.2.2->prince) (2.1.3)\n",
            "Installing collected packages: prince\n",
            "Successfully installed prince-0.12.0\n"
          ]
        }
      ]
    },
    {
      "cell_type": "code",
      "source": [
        "import pandas as pd\n",
        "\n",
        "from statsmodels.graphics.mosaicplot import mosaic\n",
        "import matplotlib.pyplot as plt\n",
        "import networkx as nx\n",
        "import pandas as pd\n",
        "import plotly.graph_objects as go\n"
      ],
      "metadata": {
        "id": "IKUd3xnMrZf0"
      },
      "execution_count": 2,
      "outputs": []
    },
    {
      "cell_type": "code",
      "source": [
        "\n",
        "bitcoin = pd.read_csv('subset_dataset.csv')\n"
      ],
      "metadata": {
        "id": "1o31dBkxrJiW"
      },
      "execution_count": 3,
      "outputs": []
    },
    {
      "cell_type": "code",
      "source": [
        "import pandas as pd\n",
        "import networkx as nx\n",
        "import plotly.graph_objects as go\n",
        "from plotly.subplots import make_subplots\n",
        "\n",
        "\n",
        "df = bitcoin\n",
        "\n",
        "# Create a directed graph\n",
        "G = nx.DiGraph()\n",
        "\n",
        "# Add nodes and edges based on DataFrame\n",
        "for _, row in df.iterrows():\n",
        "    G.add_node(row['address'], label=row['label'], n_transactions=row['n_transactions'])\n",
        "    #G.add_node(row['address'], fee_mean=row['fee_mean'], fee_std=row['fee_std'])\n",
        "    #G.add_node(row['address'], size_mean=row['size_mean'], size_std=row['size_std'])\n",
        "    #G.add_node(row['address'], size_mean=row['size_mean'], size_std=row['size_std'])\n",
        "    #G.add_node(row['address'], size_mean=row['size_mean'], size_std=row['size_std'])\n",
        "\n",
        "# Create a subplot with the graph visualization\n",
        "fig = make_subplots(rows=1, cols=1)\n",
        "\n",
        "# Create a Plotly scatter plot for the graph nodes\n",
        "node_trace = go.Scatter(\n",
        "    x=[],\n",
        "    y=[],\n",
        "    text=[],\n",
        "    mode='markers',\n",
        "    hoverinfo='text',\n",
        "    marker=dict(\n",
        "        showscale=False,\n",
        "        colorscale='YlGnBu',\n",
        "        size=10\n",
        "    )\n",
        ")\n",
        "\n",
        "# Populate node_trace with node attributes\n",
        "for node in G.nodes():\n",
        "    x, y = 0, 0  # You'll need to set the positions or use a layout algorithm\n",
        "    text = f\"Address: {node}<br>Label: {G.nodes[node]['label']}<br>Transactions: {G.nodes[node]['n_transactions']}\"\n",
        "    node_trace['x'] += (x,)\n",
        "    node_trace['y'] += (y,)\n",
        "    node_trace['text'] += (text,)\n",
        "\n",
        "# Add the node_trace to the subplot\n",
        "fig.add_trace(node_trace)\n",
        "\n",
        "# Update layout\n",
        "fig.update_layout(\n",
        "    title='Bitcoin Addresses Graph Visualization',\n",
        "    showlegend=False\n",
        ")\n",
        "\n",
        "# Show the interactive plot\n",
        "fig.show()\n"
      ],
      "metadata": {
        "colab": {
          "base_uri": "https://localhost:8080/",
          "height": 542
        },
        "id": "JS_9T2FS1pJf",
        "outputId": "643c2a25-023d-43be-dcf2-a2c0759b411e"
      },
      "execution_count": 4,
      "outputs": [
        {
          "output_type": "display_data",
          "data": {
            "text/html": [
              "<html>\n",
              "<head><meta charset=\"utf-8\" /></head>\n",
              "<body>\n",
              "    <div>            <script src=\"https://cdnjs.cloudflare.com/ajax/libs/mathjax/2.7.5/MathJax.js?config=TeX-AMS-MML_SVG\"></script><script type=\"text/javascript\">if (window.MathJax && window.MathJax.Hub && window.MathJax.Hub.Config) {window.MathJax.Hub.Config({SVG: {font: \"STIX-Web\"}});}</script>                <script type=\"text/javascript\">window.PlotlyConfig = {MathJaxConfig: 'local'};</script>\n",
              "        <script src=\"https://cdn.plot.ly/plotly-2.18.2.min.js\"></script>                <div id=\"517ad7ff-15f2-4778-8766-7b4d7ac62ce4\" class=\"plotly-graph-div\" style=\"height:525px; width:100%;\"></div>            <script type=\"text/javascript\">                                    window.PLOTLYENV=window.PLOTLYENV || {};                                    if (document.getElementById(\"517ad7ff-15f2-4778-8766-7b4d7ac62ce4\")) {                    Plotly.newPlot(                        \"517ad7ff-15f2-4778-8766-7b4d7ac62ce4\",                        [{\"hoverinfo\":\"text\",\"marker\":{\"colorscale\":[[0.0,\"rgb(255,255,217)\"],[0.125,\"rgb(237,248,177)\"],[0.25,\"rgb(199,233,180)\"],[0.375,\"rgb(127,205,187)\"],[0.5,\"rgb(65,182,196)\"],[0.625,\"rgb(29,145,192)\"],[0.75,\"rgb(34,94,168)\"],[0.875,\"rgb(37,52,148)\"],[1.0,\"rgb(8,29,88)\"]],\"showscale\":false,\"size\":10},\"mode\":\"markers\",\"text\":[\"Address: 1129yN1itF5a5Hqgw7aenPKrom3fv8Aid1<br>Label: coinjoin-like<br>Transactions: 100\",\"Address: 112b8ZjaJWGobxT7rAE8Qyw17bJa91jaec<br>Label: gambling<br>Transactions: 72\",\"Address: 112LhEwGZk5mqpLz9Q33QG5FxZNbpgDwTL<br>Label: exchange<br>Transactions: 3\",\"Address: 1136GYGTdySKCocdjqZphXiW4zoskXHqML<br>Label: gambling<br>Transactions: 197\",\"Address: 113Nu2g1dE4d3oiUH1ozUysK2RBgC98pxx<br>Label: miner<br>Transactions: 6\",\"Address: 113zXqPm8bUcqN3WwNkmbKDUKKxEwzCQHY<br>Label: miner<br>Transactions: 13\",\"Address: 1142QZVPTNpWYh9qHhajea7DdXBch9dD3s<br>Label: exchange<br>Transactions: 6\",\"Address: 114ADriuRWjkdmADR1wfL4KDqttNxGjp3D<br>Label: miner<br>Transactions: 54\",\"Address: 114dCn4TFweCWGqnxhZbaBuS5EEarJJdVS<br>Label: services<br>Transactions: 8\",\"Address: 114i8FXzB8RLuKodFwTMhmWbg4DxKWwiuZ<br>Label: exchange<br>Transactions: 2\",\"Address: 115HCtNXsMHy751vNt2EueYVzr7E4GxwJG<br>Label: exchange<br>Transactions: 4\",\"Address: 115mjxm8A1GZ4rzuXmX1tfSmar8Sa5GCwf<br>Label: exchange<br>Transactions: 2\",\"Address: 115NGnx1tJm2o2rPfnsjuYa7uEdxy2eRq8<br>Label: services<br>Transactions: 3\",\"Address: 115Qn5pR6pAFUcKwAaDNHNrkh6wXZwtNtk<br>Label: services<br>Transactions: 5\",\"Address: 115vqUzjcwsMAYtKuCdFqj6JNfp1VLsjTS<br>Label: exchange<br>Transactions: 8\",\"Address: 115xuNLCqjQ12UPYsEBoFrQURx56WPcwLD<br>Label: exchange<br>Transactions: 62\",\"Address: 116AYmdheVE4o64mDuRKmP9s3fsR84VXrC<br>Label: miner<br>Transactions: 8\",\"Address: 11d17SGG28V9K5zUEqCMeU2KnwVpk6Gvj<br>Label: coinjoin-like<br>Transactions: 4\",\"Address: 11NomAcyxruQ2t9isswHiFUDfEP6nyonn<br>Label: exchange<br>Transactions: 8\",\"Address: 121FDZK6HLCwBhCUSf6uTQvB48j6f18TjC<br>Label: coinjoin-like<br>Transactions: 114\",\"Address: 121p3NbdXCP9AKovxHPpW53EPXqZe9jiEf<br>Label: exchange<br>Transactions: 50\",\"Address: 122agEZiUmzzWCAMZ1gmRx63k8bTqGLfe7<br>Label: miner<br>Transactions: 208\",\"Address: 122D82buy7WaLGQaHiRZyThvSDyJUGsfiZ<br>Label: exchange<br>Transactions: 17\",\"Address: 122o9MHBsbtaZkr6mRv5hNQLbaCeBJFrth<br>Label: coinjoin-like<br>Transactions: 8\",\"Address: 1234AhbKmCr6xpRih7EcJzNb7YMkQBGPsP<br>Label: services<br>Transactions: 3\",\"Address: 1235hfQHqhkXKEgFy92bkRikFT5C7fCB4q<br>Label: gambling<br>Transactions: 250\",\"Address: 123aGxC6FAFKKdZzBRwtVyFA1uk8KCjzF1<br>Label: exchange<br>Transactions: 250\",\"Address: 123g3ijJLVz6zgKDgNJDbqvscMFN77smy6<br>Label: coinjoin-like<br>Transactions: 2\",\"Address: 123JSndGU2Q1v9gc3k2qTnUtuHakTGfc9B<br>Label: services<br>Transactions: 250\",\"Address: 123okrhPQu5iZYmhWjq4h9LfJLfrAoP3tk<br>Label: miner<br>Transactions: 18\",\"Address: 123QRYnQqUZJZgQP9R1BRMiHF2amsZGHgt<br>Label: services<br>Transactions: 3\",\"Address: 123XGDxKQUWhj5xVibZHNU9RKXE6m8XMN3<br>Label: services<br>Transactions: 192\",\"Address: 12435wTGTdvaQTYs4fpKwf5V3ueafaPetH<br>Label: miner<br>Transactions: 14\",\"Address: 12445FN5tHKncybMFeNXxehfnRSamcr355<br>Label: services<br>Transactions: 4\",\"Address: 124iA7yq1xjFA9JvGYeHvBBiZS9YE3qP5p<br>Label: miner<br>Transactions: 8\",\"Address: 124Jdxt5szHi7nyktjjtvg6WwGSZzxePPc<br>Label: gambling<br>Transactions: 8\",\"Address: 125bz7u6fmgkb2FSpHNQGXxZHR3oWuAByg<br>Label: coinjoin-like<br>Transactions: 75\",\"Address: 125EVYvyYeB742W8YVcFzoxQmgxvqfnznJ<br>Label: miner<br>Transactions: 10\",\"Address: 125i4CE6axsQHbmSPtrnjWuxAsGvVDEnsr<br>Label: miner<br>Transactions: 41\",\"Address: 125KffLCotHnPTctejLh38YhPk8Tk5XuQF<br>Label: coinjoin-like<br>Transactions: 180\",\"Address: 125MgaE23Pz35uCudN6N3d3zYyprXw8ScK<br>Label: exchange<br>Transactions: 2\",\"Address: 125NDEksWXKc7SgbJZePtaEPZwMVite5Wc<br>Label: miner<br>Transactions: 4\",\"Address: 125Q7fJ4CG81pEcVZHJeXnzqjirT4ofoUE<br>Label: gambling<br>Transactions: 250\",\"Address: 125uJXRSPoYWHMzvPunT2Ljo23CC896QRA<br>Label: miner<br>Transactions: 14\",\"Address: 125yNisog6W6wRAQvEGx88ujTs2Po4QjA2<br>Label: exchange<br>Transactions: 6\",\"Address: 126cHpSUNNsh2dRcLhxAZGSqjcrRvWuDKC<br>Label: coinjoin-like<br>Transactions: 2\",\"Address: 126Gwoa7HxdvHh5v2AMPp94w4tGsKgvpsB<br>Label: gambling<br>Transactions: 250\",\"Address: 126JJuRNbteotaV1Qe6wFJeS8CgiCyGnnn<br>Label: miner<br>Transactions: 41\",\"Address: 126m8bJyFzauZTcEetFbC1MhfZ7zf9PDcM<br>Label: miner<br>Transactions: 232\",\"Address: 126p4Mk22CajdkvtsXZvLjWNXT5FdGayyH<br>Label: services<br>Transactions: 2\",\"Address: 126T1unHtNk3TxQcUmQ1ho9RjLxzAAQGpj<br>Label: services<br>Transactions: 12\",\"Address: 126Wf5S2urX7enUV5v1YzUobwzrRt7ZeVt<br>Label: miner<br>Transactions: 30\",\"Address: 126yKRcjXqbxVbxz2vUZXDd47ZATMYcFv3<br>Label: exchange<br>Transactions: 48\",\"Address: 127Awf7hfh4jtWkckTtZeqXpcWgSsnxq5M<br>Label: exchange<br>Transactions: 4\",\"Address: 127EX4hrxu9u3RewGQRyVz6vhQnPYgYEjT<br>Label: services<br>Transactions: 2\",\"Address: 127iCN9n6rXoByn5gZG8RtPkMwGL5TZCks<br>Label: exchange<br>Transactions: 2\",\"Address: 127P8BPL3bsCXZJMAYVfwFDy4AgnAo57UJ<br>Label: miner<br>Transactions: 2\",\"Address: 127QqwdDhAsDVJqsjHPCudnVWaqjQdacg7<br>Label: miner<br>Transactions: 2\",\"Address: 127Za3SMUXELc4eFeU9YbFDY9mT1z5aF4K<br>Label: miner<br>Transactions: 6\",\"Address: 128AcBx5k3aPVBhXLEkittuwhfbJyJ1kjv<br>Label: gambling<br>Transactions: 28\",\"Address: 128dG4hrRP1xhV4HBdqxicsxejtwj3fTSZ<br>Label: exchange<br>Transactions: 32\",\"Address: 128WVSKCqi5QZrdDVvupi9JdnKJCSdGNmo<br>Label: miner<br>Transactions: 12\",\"Address: 129ErMVshjWn6fnH13yv54rb3a8FWCvm7m<br>Label: exchange<br>Transactions: 2\",\"Address: 129iTGKofuDQcTbPvxUb6H7cYFHjaGqmB6<br>Label: miner<br>Transactions: 8\",\"Address: 129NLAt2x8px3so7UcVWD9v4Ve2Fvg9zNR<br>Label: coinjoin-like<br>Transactions: 5\",\"Address: 129pZBg7cE7o1q4fGG7B4o8w7prXQTAuvR<br>Label: services<br>Transactions: 28\",\"Address: 129qcCFuK9zU96BhrpyaTyUv95qshu82jn<br>Label: gambling<br>Transactions: 74\",\"Address: 129upk68UJ9X4Zb89kpLCiSthxPSwbsjUj<br>Label: miner<br>Transactions: 74\",\"Address: 12a5GdW5yVLZyLvwkezaVKStQtNeThPYZV<br>Label: miner<br>Transactions: 20\",\"Address: 12A6kHyHLpDuSn62w8Jc8xyu41UkQM8b1z<br>Label: exchange<br>Transactions: 8\",\"Address: 12A6mgDLTKWy3KJ6GqpQKeJjmLe86LP6sb<br>Label: coinjoin-like<br>Transactions: 2\",\"Address: 12AE3fQj1CsSGL9c3aZpkSDz991KUxntvB<br>Label: services<br>Transactions: 250\",\"Address: 12AF8AfxRNX9hRMxnPgUGmHWfcNGWBUgPf<br>Label: exchange<br>Transactions: 23\",\"Address: 12akbk7F1S6Cpoe3FCjunCtTcXEPjQpf9w<br>Label: gambling<br>Transactions: 88\",\"Address: 12ar6hznvDPMmouanhdZUSSa3JEq5j3vHa<br>Label: miner<br>Transactions: 36\",\"Address: 12arNqn8jopgbtYgXgdiUTyd7B1vKPLXTL<br>Label: exchange<br>Transactions: 250\",\"Address: 12aU8GY7y8gVcnfb3rW39rX3239vLAX2k1<br>Label: coinjoin-like<br>Transactions: 11\",\"Address: 12aYNbUXcRdhS4AmCNxB89ZteWJ6Ej6UBs<br>Label: services<br>Transactions: 2\",\"Address: 12AYWEzWop4eMPQCJmRKpUR3oSPyUQ1xTJ<br>Label: miner<br>Transactions: 250\",\"Address: 12aYx6GcLf2Ao2t7KpLuEecmGDydzkZrwU<br>Label: miner<br>Transactions: 18\",\"Address: 12aZnwXAscZeu5ensGZ9eAQDAHSagUpAu3<br>Label: miner<br>Transactions: 87\",\"Address: 12B1KCSVYUHmRVhr5LiJwmmTcsSK3MY8hj<br>Label: miner<br>Transactions: 18\",\"Address: 12B1WfGzxa6sgZMFSGWxLpAed4Vix6SjVh<br>Label: miner<br>Transactions: 20\",\"Address: 12BDmjnTFq81p7mobU7NZAcu9rnagXAqLZ<br>Label: miner<br>Transactions: 42\",\"Address: 12Be6UqjhpFxysEuM3fYcoEy4JFfeEBN8B<br>Label: miner<br>Transactions: 8\",\"Address: 12bGCGgUqkccgnWWWW5zWhLD9AaYD5KVzg<br>Label: coinjoin-like<br>Transactions: 4\",\"Address: 12BGK8HT9yYi2XAZanzCnrUT6cK7LqDj6r<br>Label: coinjoin-like<br>Transactions: 88\",\"Address: 12bkuXqWU8EJGYWCqTq4PN4sudZeeZqnA9<br>Label: miner<br>Transactions: 2\",\"Address: 12BMUMiuodbUHEv6AF8jA3N8LqSRqk7BoE<br>Label: coinjoin-like<br>Transactions: 2\",\"Address: 12BobysBhFxgSXjmKQpN3k37TQFv3SfBpJ<br>Label: coinjoin-like<br>Transactions: 97\",\"Address: 12brydtJjuWkCtVjk9mkPtTWBWuf2o2g78<br>Label: miner<br>Transactions: 20\",\"Address: 12bTCtrgV7sak1XRyDLV415Detqr9TzThh<br>Label: gambling<br>Transactions: 250\",\"Address: 12BUjbQknTrAufLTh5DsPkBHTGWTHiWj2n<br>Label: coinjoin-like<br>Transactions: 146\",\"Address: 12cgpFdJViXbwHbhrA3TuW1EGnL25Zqc3P<br>Label: exchange<br>Transactions: 250\",\"Address: 12ciWG1Q4TJT6p95GmnC5UZNag4mnzoFot<br>Label: gambling<br>Transactions: 250\",\"Address: 12CT9X4CPaQUCgT7TAtAT3YD9AU7oGBPfJ<br>Label: miner<br>Transactions: 8\",\"Address: 12CY5Hq3J447wguFunpNpEQfH1t2jFEnBB<br>Label: exchange<br>Transactions: 250\",\"Address: 12CZeH2YsAPTMTq7sPD5vKoLtgXqzybpSf<br>Label: services<br>Transactions: 2\",\"Address: 12czYtf78s2nASAn9die67kHQ6oUpZhYZ4<br>Label: gambling<br>Transactions: 124\"],\"x\":[0,0,0,0,0,0,0,0,0,0,0,0,0,0,0,0,0,0,0,0,0,0,0,0,0,0,0,0,0,0,0,0,0,0,0,0,0,0,0,0,0,0,0,0,0,0,0,0,0,0,0,0,0,0,0,0,0,0,0,0,0,0,0,0,0,0,0,0,0,0,0,0,0,0,0,0,0,0,0,0,0,0,0,0,0,0,0,0,0,0,0,0,0,0,0,0,0,0,0],\"y\":[0,0,0,0,0,0,0,0,0,0,0,0,0,0,0,0,0,0,0,0,0,0,0,0,0,0,0,0,0,0,0,0,0,0,0,0,0,0,0,0,0,0,0,0,0,0,0,0,0,0,0,0,0,0,0,0,0,0,0,0,0,0,0,0,0,0,0,0,0,0,0,0,0,0,0,0,0,0,0,0,0,0,0,0,0,0,0,0,0,0,0,0,0,0,0,0,0,0,0],\"type\":\"scatter\"}],                        {\"template\":{\"data\":{\"histogram2dcontour\":[{\"type\":\"histogram2dcontour\",\"colorbar\":{\"outlinewidth\":0,\"ticks\":\"\"},\"colorscale\":[[0.0,\"#0d0887\"],[0.1111111111111111,\"#46039f\"],[0.2222222222222222,\"#7201a8\"],[0.3333333333333333,\"#9c179e\"],[0.4444444444444444,\"#bd3786\"],[0.5555555555555556,\"#d8576b\"],[0.6666666666666666,\"#ed7953\"],[0.7777777777777778,\"#fb9f3a\"],[0.8888888888888888,\"#fdca26\"],[1.0,\"#f0f921\"]]}],\"choropleth\":[{\"type\":\"choropleth\",\"colorbar\":{\"outlinewidth\":0,\"ticks\":\"\"}}],\"histogram2d\":[{\"type\":\"histogram2d\",\"colorbar\":{\"outlinewidth\":0,\"ticks\":\"\"},\"colorscale\":[[0.0,\"#0d0887\"],[0.1111111111111111,\"#46039f\"],[0.2222222222222222,\"#7201a8\"],[0.3333333333333333,\"#9c179e\"],[0.4444444444444444,\"#bd3786\"],[0.5555555555555556,\"#d8576b\"],[0.6666666666666666,\"#ed7953\"],[0.7777777777777778,\"#fb9f3a\"],[0.8888888888888888,\"#fdca26\"],[1.0,\"#f0f921\"]]}],\"heatmap\":[{\"type\":\"heatmap\",\"colorbar\":{\"outlinewidth\":0,\"ticks\":\"\"},\"colorscale\":[[0.0,\"#0d0887\"],[0.1111111111111111,\"#46039f\"],[0.2222222222222222,\"#7201a8\"],[0.3333333333333333,\"#9c179e\"],[0.4444444444444444,\"#bd3786\"],[0.5555555555555556,\"#d8576b\"],[0.6666666666666666,\"#ed7953\"],[0.7777777777777778,\"#fb9f3a\"],[0.8888888888888888,\"#fdca26\"],[1.0,\"#f0f921\"]]}],\"heatmapgl\":[{\"type\":\"heatmapgl\",\"colorbar\":{\"outlinewidth\":0,\"ticks\":\"\"},\"colorscale\":[[0.0,\"#0d0887\"],[0.1111111111111111,\"#46039f\"],[0.2222222222222222,\"#7201a8\"],[0.3333333333333333,\"#9c179e\"],[0.4444444444444444,\"#bd3786\"],[0.5555555555555556,\"#d8576b\"],[0.6666666666666666,\"#ed7953\"],[0.7777777777777778,\"#fb9f3a\"],[0.8888888888888888,\"#fdca26\"],[1.0,\"#f0f921\"]]}],\"contourcarpet\":[{\"type\":\"contourcarpet\",\"colorbar\":{\"outlinewidth\":0,\"ticks\":\"\"}}],\"contour\":[{\"type\":\"contour\",\"colorbar\":{\"outlinewidth\":0,\"ticks\":\"\"},\"colorscale\":[[0.0,\"#0d0887\"],[0.1111111111111111,\"#46039f\"],[0.2222222222222222,\"#7201a8\"],[0.3333333333333333,\"#9c179e\"],[0.4444444444444444,\"#bd3786\"],[0.5555555555555556,\"#d8576b\"],[0.6666666666666666,\"#ed7953\"],[0.7777777777777778,\"#fb9f3a\"],[0.8888888888888888,\"#fdca26\"],[1.0,\"#f0f921\"]]}],\"surface\":[{\"type\":\"surface\",\"colorbar\":{\"outlinewidth\":0,\"ticks\":\"\"},\"colorscale\":[[0.0,\"#0d0887\"],[0.1111111111111111,\"#46039f\"],[0.2222222222222222,\"#7201a8\"],[0.3333333333333333,\"#9c179e\"],[0.4444444444444444,\"#bd3786\"],[0.5555555555555556,\"#d8576b\"],[0.6666666666666666,\"#ed7953\"],[0.7777777777777778,\"#fb9f3a\"],[0.8888888888888888,\"#fdca26\"],[1.0,\"#f0f921\"]]}],\"mesh3d\":[{\"type\":\"mesh3d\",\"colorbar\":{\"outlinewidth\":0,\"ticks\":\"\"}}],\"scatter\":[{\"fillpattern\":{\"fillmode\":\"overlay\",\"size\":10,\"solidity\":0.2},\"type\":\"scatter\"}],\"parcoords\":[{\"type\":\"parcoords\",\"line\":{\"colorbar\":{\"outlinewidth\":0,\"ticks\":\"\"}}}],\"scatterpolargl\":[{\"type\":\"scatterpolargl\",\"marker\":{\"colorbar\":{\"outlinewidth\":0,\"ticks\":\"\"}}}],\"bar\":[{\"error_x\":{\"color\":\"#2a3f5f\"},\"error_y\":{\"color\":\"#2a3f5f\"},\"marker\":{\"line\":{\"color\":\"#E5ECF6\",\"width\":0.5},\"pattern\":{\"fillmode\":\"overlay\",\"size\":10,\"solidity\":0.2}},\"type\":\"bar\"}],\"scattergeo\":[{\"type\":\"scattergeo\",\"marker\":{\"colorbar\":{\"outlinewidth\":0,\"ticks\":\"\"}}}],\"scatterpolar\":[{\"type\":\"scatterpolar\",\"marker\":{\"colorbar\":{\"outlinewidth\":0,\"ticks\":\"\"}}}],\"histogram\":[{\"marker\":{\"pattern\":{\"fillmode\":\"overlay\",\"size\":10,\"solidity\":0.2}},\"type\":\"histogram\"}],\"scattergl\":[{\"type\":\"scattergl\",\"marker\":{\"colorbar\":{\"outlinewidth\":0,\"ticks\":\"\"}}}],\"scatter3d\":[{\"type\":\"scatter3d\",\"line\":{\"colorbar\":{\"outlinewidth\":0,\"ticks\":\"\"}},\"marker\":{\"colorbar\":{\"outlinewidth\":0,\"ticks\":\"\"}}}],\"scattermapbox\":[{\"type\":\"scattermapbox\",\"marker\":{\"colorbar\":{\"outlinewidth\":0,\"ticks\":\"\"}}}],\"scatterternary\":[{\"type\":\"scatterternary\",\"marker\":{\"colorbar\":{\"outlinewidth\":0,\"ticks\":\"\"}}}],\"scattercarpet\":[{\"type\":\"scattercarpet\",\"marker\":{\"colorbar\":{\"outlinewidth\":0,\"ticks\":\"\"}}}],\"carpet\":[{\"aaxis\":{\"endlinecolor\":\"#2a3f5f\",\"gridcolor\":\"white\",\"linecolor\":\"white\",\"minorgridcolor\":\"white\",\"startlinecolor\":\"#2a3f5f\"},\"baxis\":{\"endlinecolor\":\"#2a3f5f\",\"gridcolor\":\"white\",\"linecolor\":\"white\",\"minorgridcolor\":\"white\",\"startlinecolor\":\"#2a3f5f\"},\"type\":\"carpet\"}],\"table\":[{\"cells\":{\"fill\":{\"color\":\"#EBF0F8\"},\"line\":{\"color\":\"white\"}},\"header\":{\"fill\":{\"color\":\"#C8D4E3\"},\"line\":{\"color\":\"white\"}},\"type\":\"table\"}],\"barpolar\":[{\"marker\":{\"line\":{\"color\":\"#E5ECF6\",\"width\":0.5},\"pattern\":{\"fillmode\":\"overlay\",\"size\":10,\"solidity\":0.2}},\"type\":\"barpolar\"}],\"pie\":[{\"automargin\":true,\"type\":\"pie\"}]},\"layout\":{\"autotypenumbers\":\"strict\",\"colorway\":[\"#636efa\",\"#EF553B\",\"#00cc96\",\"#ab63fa\",\"#FFA15A\",\"#19d3f3\",\"#FF6692\",\"#B6E880\",\"#FF97FF\",\"#FECB52\"],\"font\":{\"color\":\"#2a3f5f\"},\"hovermode\":\"closest\",\"hoverlabel\":{\"align\":\"left\"},\"paper_bgcolor\":\"white\",\"plot_bgcolor\":\"#E5ECF6\",\"polar\":{\"bgcolor\":\"#E5ECF6\",\"angularaxis\":{\"gridcolor\":\"white\",\"linecolor\":\"white\",\"ticks\":\"\"},\"radialaxis\":{\"gridcolor\":\"white\",\"linecolor\":\"white\",\"ticks\":\"\"}},\"ternary\":{\"bgcolor\":\"#E5ECF6\",\"aaxis\":{\"gridcolor\":\"white\",\"linecolor\":\"white\",\"ticks\":\"\"},\"baxis\":{\"gridcolor\":\"white\",\"linecolor\":\"white\",\"ticks\":\"\"},\"caxis\":{\"gridcolor\":\"white\",\"linecolor\":\"white\",\"ticks\":\"\"}},\"coloraxis\":{\"colorbar\":{\"outlinewidth\":0,\"ticks\":\"\"}},\"colorscale\":{\"sequential\":[[0.0,\"#0d0887\"],[0.1111111111111111,\"#46039f\"],[0.2222222222222222,\"#7201a8\"],[0.3333333333333333,\"#9c179e\"],[0.4444444444444444,\"#bd3786\"],[0.5555555555555556,\"#d8576b\"],[0.6666666666666666,\"#ed7953\"],[0.7777777777777778,\"#fb9f3a\"],[0.8888888888888888,\"#fdca26\"],[1.0,\"#f0f921\"]],\"sequentialminus\":[[0.0,\"#0d0887\"],[0.1111111111111111,\"#46039f\"],[0.2222222222222222,\"#7201a8\"],[0.3333333333333333,\"#9c179e\"],[0.4444444444444444,\"#bd3786\"],[0.5555555555555556,\"#d8576b\"],[0.6666666666666666,\"#ed7953\"],[0.7777777777777778,\"#fb9f3a\"],[0.8888888888888888,\"#fdca26\"],[1.0,\"#f0f921\"]],\"diverging\":[[0,\"#8e0152\"],[0.1,\"#c51b7d\"],[0.2,\"#de77ae\"],[0.3,\"#f1b6da\"],[0.4,\"#fde0ef\"],[0.5,\"#f7f7f7\"],[0.6,\"#e6f5d0\"],[0.7,\"#b8e186\"],[0.8,\"#7fbc41\"],[0.9,\"#4d9221\"],[1,\"#276419\"]]},\"xaxis\":{\"gridcolor\":\"white\",\"linecolor\":\"white\",\"ticks\":\"\",\"title\":{\"standoff\":15},\"zerolinecolor\":\"white\",\"automargin\":true,\"zerolinewidth\":2},\"yaxis\":{\"gridcolor\":\"white\",\"linecolor\":\"white\",\"ticks\":\"\",\"title\":{\"standoff\":15},\"zerolinecolor\":\"white\",\"automargin\":true,\"zerolinewidth\":2},\"scene\":{\"xaxis\":{\"backgroundcolor\":\"#E5ECF6\",\"gridcolor\":\"white\",\"linecolor\":\"white\",\"showbackground\":true,\"ticks\":\"\",\"zerolinecolor\":\"white\",\"gridwidth\":2},\"yaxis\":{\"backgroundcolor\":\"#E5ECF6\",\"gridcolor\":\"white\",\"linecolor\":\"white\",\"showbackground\":true,\"ticks\":\"\",\"zerolinecolor\":\"white\",\"gridwidth\":2},\"zaxis\":{\"backgroundcolor\":\"#E5ECF6\",\"gridcolor\":\"white\",\"linecolor\":\"white\",\"showbackground\":true,\"ticks\":\"\",\"zerolinecolor\":\"white\",\"gridwidth\":2}},\"shapedefaults\":{\"line\":{\"color\":\"#2a3f5f\"}},\"annotationdefaults\":{\"arrowcolor\":\"#2a3f5f\",\"arrowhead\":0,\"arrowwidth\":1},\"geo\":{\"bgcolor\":\"white\",\"landcolor\":\"#E5ECF6\",\"subunitcolor\":\"white\",\"showland\":true,\"showlakes\":true,\"lakecolor\":\"white\"},\"title\":{\"x\":0.05},\"mapbox\":{\"style\":\"light\"}}},\"xaxis\":{\"anchor\":\"y\",\"domain\":[0.0,1.0]},\"yaxis\":{\"anchor\":\"x\",\"domain\":[0.0,1.0]},\"title\":{\"text\":\"Bitcoin Addresses Graph Visualization\"},\"showlegend\":false},                        {\"responsive\": true}                    ).then(function(){\n",
              "                            \n",
              "var gd = document.getElementById('517ad7ff-15f2-4778-8766-7b4d7ac62ce4');\n",
              "var x = new MutationObserver(function (mutations, observer) {{\n",
              "        var display = window.getComputedStyle(gd).display;\n",
              "        if (!display || display === 'none') {{\n",
              "            console.log([gd, 'removed!']);\n",
              "            Plotly.purge(gd);\n",
              "            observer.disconnect();\n",
              "        }}\n",
              "}});\n",
              "\n",
              "// Listen for the removal of the full notebook cells\n",
              "var notebookContainer = gd.closest('#notebook-container');\n",
              "if (notebookContainer) {{\n",
              "    x.observe(notebookContainer, {childList: true});\n",
              "}}\n",
              "\n",
              "// Listen for the clearing of the current output cell\n",
              "var outputEl = gd.closest('.output');\n",
              "if (outputEl) {{\n",
              "    x.observe(outputEl, {childList: true});\n",
              "}}\n",
              "\n",
              "                        })                };                            </script>        </div>\n",
              "</body>\n",
              "</html>"
            ]
          },
          "metadata": {}
        }
      ]
    },
    {
      "cell_type": "code",
      "source": [
        "pip install pandas plotly ipywidgets\n"
      ],
      "metadata": {
        "colab": {
          "base_uri": "https://localhost:8080/"
        },
        "id": "LAyK1qbO9vwM",
        "outputId": "411b557b-c703-4f55-fd00-b25241cbd01e"
      },
      "execution_count": 5,
      "outputs": [
        {
          "output_type": "stream",
          "name": "stdout",
          "text": [
            "Requirement already satisfied: pandas in /usr/local/lib/python3.10/dist-packages (1.5.3)\n",
            "Requirement already satisfied: plotly in /usr/local/lib/python3.10/dist-packages (5.13.1)\n",
            "Requirement already satisfied: ipywidgets in /usr/local/lib/python3.10/dist-packages (7.7.1)\n",
            "Requirement already satisfied: python-dateutil>=2.8.1 in /usr/local/lib/python3.10/dist-packages (from pandas) (2.8.2)\n",
            "Requirement already satisfied: pytz>=2020.1 in /usr/local/lib/python3.10/dist-packages (from pandas) (2022.7.1)\n",
            "Requirement already satisfied: numpy>=1.21.0 in /usr/local/lib/python3.10/dist-packages (from pandas) (1.23.5)\n",
            "Requirement already satisfied: tenacity>=6.2.0 in /usr/local/lib/python3.10/dist-packages (from plotly) (8.2.2)\n",
            "Requirement already satisfied: ipykernel>=4.5.1 in /usr/local/lib/python3.10/dist-packages (from ipywidgets) (5.5.6)\n",
            "Requirement already satisfied: ipython-genutils~=0.2.0 in /usr/local/lib/python3.10/dist-packages (from ipywidgets) (0.2.0)\n",
            "Requirement already satisfied: traitlets>=4.3.1 in /usr/local/lib/python3.10/dist-packages (from ipywidgets) (5.7.1)\n",
            "Requirement already satisfied: widgetsnbextension~=3.6.0 in /usr/local/lib/python3.10/dist-packages (from ipywidgets) (3.6.5)\n",
            "Requirement already satisfied: ipython>=4.0.0 in /usr/local/lib/python3.10/dist-packages (from ipywidgets) (7.34.0)\n",
            "Requirement already satisfied: jupyterlab-widgets>=1.0.0 in /usr/local/lib/python3.10/dist-packages (from ipywidgets) (3.0.8)\n",
            "Requirement already satisfied: jupyter-client in /usr/local/lib/python3.10/dist-packages (from ipykernel>=4.5.1->ipywidgets) (6.1.12)\n",
            "Requirement already satisfied: tornado>=4.2 in /usr/local/lib/python3.10/dist-packages (from ipykernel>=4.5.1->ipywidgets) (6.3.1)\n",
            "Requirement already satisfied: setuptools>=18.5 in /usr/local/lib/python3.10/dist-packages (from ipython>=4.0.0->ipywidgets) (67.7.2)\n",
            "Collecting jedi>=0.16 (from ipython>=4.0.0->ipywidgets)\n",
            "  Downloading jedi-0.19.0-py2.py3-none-any.whl (1.6 MB)\n",
            "\u001b[2K     \u001b[90m━━━━━━━━━━━━━━━━━━━━━━━━━━━━━━━━━━━━━━━━\u001b[0m \u001b[32m1.6/1.6 MB\u001b[0m \u001b[31m7.2 MB/s\u001b[0m eta \u001b[36m0:00:00\u001b[0m\n",
            "\u001b[?25hRequirement already satisfied: decorator in /usr/local/lib/python3.10/dist-packages (from ipython>=4.0.0->ipywidgets) (4.4.2)\n",
            "Requirement already satisfied: pickleshare in /usr/local/lib/python3.10/dist-packages (from ipython>=4.0.0->ipywidgets) (0.7.5)\n",
            "Requirement already satisfied: prompt-toolkit!=3.0.0,!=3.0.1,<3.1.0,>=2.0.0 in /usr/local/lib/python3.10/dist-packages (from ipython>=4.0.0->ipywidgets) (3.0.39)\n",
            "Requirement already satisfied: pygments in /usr/local/lib/python3.10/dist-packages (from ipython>=4.0.0->ipywidgets) (2.14.0)\n",
            "Requirement already satisfied: backcall in /usr/local/lib/python3.10/dist-packages (from ipython>=4.0.0->ipywidgets) (0.2.0)\n",
            "Requirement already satisfied: matplotlib-inline in /usr/local/lib/python3.10/dist-packages (from ipython>=4.0.0->ipywidgets) (0.1.6)\n",
            "Requirement already satisfied: pexpect>4.3 in /usr/local/lib/python3.10/dist-packages (from ipython>=4.0.0->ipywidgets) (4.8.0)\n",
            "Requirement already satisfied: six>=1.5 in /usr/local/lib/python3.10/dist-packages (from python-dateutil>=2.8.1->pandas) (1.16.0)\n",
            "Requirement already satisfied: notebook>=4.4.1 in /usr/local/lib/python3.10/dist-packages (from widgetsnbextension~=3.6.0->ipywidgets) (6.4.8)\n",
            "Requirement already satisfied: parso<0.9.0,>=0.8.3 in /usr/local/lib/python3.10/dist-packages (from jedi>=0.16->ipython>=4.0.0->ipywidgets) (0.8.3)\n",
            "Requirement already satisfied: jinja2 in /usr/local/lib/python3.10/dist-packages (from notebook>=4.4.1->widgetsnbextension~=3.6.0->ipywidgets) (3.1.2)\n",
            "Requirement already satisfied: pyzmq>=17 in /usr/local/lib/python3.10/dist-packages (from notebook>=4.4.1->widgetsnbextension~=3.6.0->ipywidgets) (23.2.1)\n",
            "Requirement already satisfied: argon2-cffi in /usr/local/lib/python3.10/dist-packages (from notebook>=4.4.1->widgetsnbextension~=3.6.0->ipywidgets) (21.3.0)\n",
            "Requirement already satisfied: jupyter-core>=4.6.1 in /usr/local/lib/python3.10/dist-packages (from notebook>=4.4.1->widgetsnbextension~=3.6.0->ipywidgets) (5.3.1)\n",
            "Requirement already satisfied: nbformat in /usr/local/lib/python3.10/dist-packages (from notebook>=4.4.1->widgetsnbextension~=3.6.0->ipywidgets) (5.9.2)\n",
            "Requirement already satisfied: nbconvert in /usr/local/lib/python3.10/dist-packages (from notebook>=4.4.1->widgetsnbextension~=3.6.0->ipywidgets) (6.5.4)\n",
            "Requirement already satisfied: nest-asyncio>=1.5 in /usr/local/lib/python3.10/dist-packages (from notebook>=4.4.1->widgetsnbextension~=3.6.0->ipywidgets) (1.5.7)\n",
            "Requirement already satisfied: Send2Trash>=1.8.0 in /usr/local/lib/python3.10/dist-packages (from notebook>=4.4.1->widgetsnbextension~=3.6.0->ipywidgets) (1.8.2)\n",
            "Requirement already satisfied: terminado>=0.8.3 in /usr/local/lib/python3.10/dist-packages (from notebook>=4.4.1->widgetsnbextension~=3.6.0->ipywidgets) (0.17.1)\n",
            "Requirement already satisfied: prometheus-client in /usr/local/lib/python3.10/dist-packages (from notebook>=4.4.1->widgetsnbextension~=3.6.0->ipywidgets) (0.17.1)\n",
            "Requirement already satisfied: ptyprocess>=0.5 in /usr/local/lib/python3.10/dist-packages (from pexpect>4.3->ipython>=4.0.0->ipywidgets) (0.7.0)\n",
            "Requirement already satisfied: wcwidth in /usr/local/lib/python3.10/dist-packages (from prompt-toolkit!=3.0.0,!=3.0.1,<3.1.0,>=2.0.0->ipython>=4.0.0->ipywidgets) (0.2.6)\n",
            "Requirement already satisfied: platformdirs>=2.5 in /usr/local/lib/python3.10/dist-packages (from jupyter-core>=4.6.1->notebook>=4.4.1->widgetsnbextension~=3.6.0->ipywidgets) (3.10.0)\n",
            "Requirement already satisfied: argon2-cffi-bindings in /usr/local/lib/python3.10/dist-packages (from argon2-cffi->notebook>=4.4.1->widgetsnbextension~=3.6.0->ipywidgets) (21.2.0)\n",
            "Requirement already satisfied: MarkupSafe>=2.0 in /usr/local/lib/python3.10/dist-packages (from jinja2->notebook>=4.4.1->widgetsnbextension~=3.6.0->ipywidgets) (2.1.3)\n",
            "Requirement already satisfied: lxml in /usr/local/lib/python3.10/dist-packages (from nbconvert->notebook>=4.4.1->widgetsnbextension~=3.6.0->ipywidgets) (4.9.3)\n",
            "Requirement already satisfied: beautifulsoup4 in /usr/local/lib/python3.10/dist-packages (from nbconvert->notebook>=4.4.1->widgetsnbextension~=3.6.0->ipywidgets) (4.11.2)\n",
            "Requirement already satisfied: bleach in /usr/local/lib/python3.10/dist-packages (from nbconvert->notebook>=4.4.1->widgetsnbextension~=3.6.0->ipywidgets) (6.0.0)\n",
            "Requirement already satisfied: defusedxml in /usr/local/lib/python3.10/dist-packages (from nbconvert->notebook>=4.4.1->widgetsnbextension~=3.6.0->ipywidgets) (0.7.1)\n",
            "Requirement already satisfied: entrypoints>=0.2.2 in /usr/local/lib/python3.10/dist-packages (from nbconvert->notebook>=4.4.1->widgetsnbextension~=3.6.0->ipywidgets) (0.4)\n",
            "Requirement already satisfied: jupyterlab-pygments in /usr/local/lib/python3.10/dist-packages (from nbconvert->notebook>=4.4.1->widgetsnbextension~=3.6.0->ipywidgets) (0.2.2)\n",
            "Requirement already satisfied: mistune<2,>=0.8.1 in /usr/local/lib/python3.10/dist-packages (from nbconvert->notebook>=4.4.1->widgetsnbextension~=3.6.0->ipywidgets) (0.8.4)\n",
            "Requirement already satisfied: nbclient>=0.5.0 in /usr/local/lib/python3.10/dist-packages (from nbconvert->notebook>=4.4.1->widgetsnbextension~=3.6.0->ipywidgets) (0.8.0)\n",
            "Requirement already satisfied: packaging in /usr/local/lib/python3.10/dist-packages (from nbconvert->notebook>=4.4.1->widgetsnbextension~=3.6.0->ipywidgets) (23.1)\n",
            "Requirement already satisfied: pandocfilters>=1.4.1 in /usr/local/lib/python3.10/dist-packages (from nbconvert->notebook>=4.4.1->widgetsnbextension~=3.6.0->ipywidgets) (1.5.0)\n",
            "Requirement already satisfied: tinycss2 in /usr/local/lib/python3.10/dist-packages (from nbconvert->notebook>=4.4.1->widgetsnbextension~=3.6.0->ipywidgets) (1.2.1)\n",
            "Requirement already satisfied: fastjsonschema in /usr/local/lib/python3.10/dist-packages (from nbformat->notebook>=4.4.1->widgetsnbextension~=3.6.0->ipywidgets) (2.18.0)\n",
            "Requirement already satisfied: jsonschema>=2.6 in /usr/local/lib/python3.10/dist-packages (from nbformat->notebook>=4.4.1->widgetsnbextension~=3.6.0->ipywidgets) (4.3.3)\n",
            "Requirement already satisfied: attrs>=17.4.0 in /usr/local/lib/python3.10/dist-packages (from jsonschema>=2.6->nbformat->notebook>=4.4.1->widgetsnbextension~=3.6.0->ipywidgets) (23.1.0)\n",
            "Requirement already satisfied: pyrsistent!=0.17.0,!=0.17.1,!=0.17.2,>=0.14.0 in /usr/local/lib/python3.10/dist-packages (from jsonschema>=2.6->nbformat->notebook>=4.4.1->widgetsnbextension~=3.6.0->ipywidgets) (0.19.3)\n",
            "Requirement already satisfied: cffi>=1.0.1 in /usr/local/lib/python3.10/dist-packages (from argon2-cffi-bindings->argon2-cffi->notebook>=4.4.1->widgetsnbextension~=3.6.0->ipywidgets) (1.15.1)\n",
            "Requirement already satisfied: soupsieve>1.2 in /usr/local/lib/python3.10/dist-packages (from beautifulsoup4->nbconvert->notebook>=4.4.1->widgetsnbextension~=3.6.0->ipywidgets) (2.4.1)\n",
            "Requirement already satisfied: webencodings in /usr/local/lib/python3.10/dist-packages (from bleach->nbconvert->notebook>=4.4.1->widgetsnbextension~=3.6.0->ipywidgets) (0.5.1)\n",
            "Requirement already satisfied: pycparser in /usr/local/lib/python3.10/dist-packages (from cffi>=1.0.1->argon2-cffi-bindings->argon2-cffi->notebook>=4.4.1->widgetsnbextension~=3.6.0->ipywidgets) (2.21)\n",
            "Installing collected packages: jedi\n",
            "Successfully installed jedi-0.19.0\n"
          ]
        }
      ]
    },
    {
      "cell_type": "code",
      "source": [
        "import pandas as pd\n",
        "import plotly.express as px\n",
        "\n",
        "\n",
        "df = bitcoin\n",
        "\n",
        "# Create an interactive scatter plot using Plotly Express\n",
        "fig = px.scatter(df, x='inputsAmount_mean', y='vout_sz_mean', color='label',\n",
        "                 hover_data=['label', 'fee_mean'],\n",
        "                 title='Cluster Average inputs Amount volume of Bitcoin out by Label')\n",
        "\n",
        "# Show label names in the legend\n",
        "fig.update_traces(showlegend=True)\n",
        "\n",
        "# Display the interactive plot\n",
        "fig.show()"
      ],
      "metadata": {
        "colab": {
          "base_uri": "https://localhost:8080/",
          "height": 542
        },
        "id": "fEDq4iP8aZlI",
        "outputId": "355f9b05-a0b4-490e-b9c8-1a73c6f5f02c"
      },
      "execution_count": 6,
      "outputs": [
        {
          "output_type": "display_data",
          "data": {
            "text/html": [
              "<html>\n",
              "<head><meta charset=\"utf-8\" /></head>\n",
              "<body>\n",
              "    <div>            <script src=\"https://cdnjs.cloudflare.com/ajax/libs/mathjax/2.7.5/MathJax.js?config=TeX-AMS-MML_SVG\"></script><script type=\"text/javascript\">if (window.MathJax && window.MathJax.Hub && window.MathJax.Hub.Config) {window.MathJax.Hub.Config({SVG: {font: \"STIX-Web\"}});}</script>                <script type=\"text/javascript\">window.PlotlyConfig = {MathJaxConfig: 'local'};</script>\n",
              "        <script src=\"https://cdn.plot.ly/plotly-2.18.2.min.js\"></script>                <div id=\"b032ac30-2041-4259-953d-7035bffa52e1\" class=\"plotly-graph-div\" style=\"height:525px; width:100%;\"></div>            <script type=\"text/javascript\">                                    window.PLOTLYENV=window.PLOTLYENV || {};                                    if (document.getElementById(\"b032ac30-2041-4259-953d-7035bffa52e1\")) {                    Plotly.newPlot(                        \"b032ac30-2041-4259-953d-7035bffa52e1\",                        [{\"customdata\":[[\"coinjoin-like\",16304400.0],[\"coinjoin-like\",108260.0],[\"coinjoin-like\",47631.57895],[\"coinjoin-like\",83250.0],[\"coinjoin-like\",77340.0],[\"coinjoin-like\",66666.66667],[\"coinjoin-like\",64555.55556],[\"coinjoin-like\",118740.0],[\"coinjoin-like\",50000.0],[\"coinjoin-like\",82340.0],[\"coinjoin-like\",106745.4545],[\"coinjoin-like\",142960.0],[\"coinjoin-like\",66704.54545],[\"coinjoin-like\",50000.0],[\"coinjoin-like\",133448453.6],[\"coinjoin-like\",173454.9521]],\"hovertemplate\":\"label=%{customdata[0]}<br>inputsAmount_mean=%{x}<br>vout_sz_mean=%{y}<br>fee_mean=%{customdata[1]}<extra></extra>\",\"legendgroup\":\"coinjoin-like\",\"marker\":{\"color\":\"#636efa\",\"symbol\":\"circle\"},\"mode\":\"markers\",\"name\":\"coinjoin-like\",\"orientation\":\"v\",\"showlegend\":true,\"x\":[1313290108.0,641647165.0,531578072.5,1006320451.0,750437387.5,601826610.1,2075409559.0,670603875.0,7104342331.0,697442387.5,635812916.8,650640578.0,532164454.1,3403110905.0,85254753451.0,628812323.6],\"xaxis\":\"x\",\"y\":[2.02,1.75,2.0,2.0,2.0,3.546666667,14.33333333,2.0,2.0,2.0,1.818181818,1.75,1.977272727,2.0,1.948453608,12.39041096],\"yaxis\":\"y\",\"type\":\"scatter\"},{\"customdata\":[[\"gambling\",27788.59722],[\"gambling\",249839.0457],[\"gambling\",12478.744],[\"gambling\",46724.375],[\"gambling\",147354.836],[\"gambling\",30990.352],[\"gambling\",12142.85714],[\"gambling\",19762.08108],[\"gambling\",13717.38636],[\"gambling\",10045.12],[\"gambling\",1839422.88],[\"gambling\",10710.40323]],\"hovertemplate\":\"label=%{customdata[0]}<br>inputsAmount_mean=%{x}<br>vout_sz_mean=%{y}<br>fee_mean=%{customdata[1]}<extra></extra>\",\"legendgroup\":\"gambling\",\"marker\":{\"color\":\"#EF553B\",\"symbol\":\"circle\"},\"mode\":\"markers\",\"name\":\"gambling\",\"orientation\":\"v\",\"showlegend\":true,\"x\":[121047803.8,549079311.8,168055205.2,329555947.4,534982227.8,150039153.1,57099587.79,262842352.8,15312225.63,21385906.32,857311076.2,61806403.34],\"xaxis\":\"x\",\"y\":[17.90277778,3.299492386,2.448,2.875,32.636,1.844,1.892857143,2.5,2.0,1.692,1.964,2.0],\"yaxis\":\"y\",\"type\":\"scatter\"},{\"customdata\":[[\"exchange\",167926.6667],[\"exchange\",32563.66667],[\"exchange\",56450.0],[\"exchange\",1733867.0],[\"exchange\",2181132.0],[\"exchange\",146105.125],[\"exchange\",5095956.774],[\"exchange\",126176.875],[\"exchange\",3964751.4],[\"exchange\",59600.23529],[\"exchange\",212102.848],[\"exchange\",579924.5],[\"exchange\",1518988.5],[\"exchange\",105862.6667],[\"exchange\",433449.0],[\"exchange\",133675.5],[\"exchange\",5748964.094],[\"exchange\",2205421.0],[\"exchange\",508942.625],[\"exchange\",596628.913],[\"exchange\",522519.62],[\"exchange\",213962.156],[\"exchange\",1113670.312]],\"hovertemplate\":\"label=%{customdata[0]}<br>inputsAmount_mean=%{x}<br>vout_sz_mean=%{y}<br>fee_mean=%{customdata[1]}<extra></extra>\",\"legendgroup\":\"exchange\",\"marker\":{\"color\":\"#00cc96\",\"symbol\":\"circle\"},\"mode\":\"markers\",\"name\":\"exchange\",\"orientation\":\"v\",\"showlegend\":true,\"x\":[1333763129.0,1421832856.0,3246292745.0,4144544920.0,2421967057.0,57064397540.0,9289459193.0,10900062919.0,3504079288.0,4066912530.0,23755163872.0,6584181949.0,18747476760.0,1500472270.0,2985614266.0,4389650478.0,2554896996.0,4043518803.0,12253581343.0,6185982850.0,15527090917.0,1909842574.0,2021103654.0],\"xaxis\":\"x\",\"y\":[1.333333333,6.666666667,9.5,7.0,28.5,13.0,119.4677419,21.875,66.82,7.411764706,17.652,16.0,19.83333333,2.75,14.5,23.0,24.875,57.0,38.5,20.73913043,16.58,4.116,16.492],\"yaxis\":\"y\",\"type\":\"scatter\"},{\"customdata\":[[\"miner\",5135066.667],[\"miner\",1248242.077],[\"miner\",1781464.481],[\"miner\",173944.875],[\"miner\",937894.6442],[\"miner\",1398100.5],[\"miner\",324461.5],[\"miner\",2826047.625],[\"miner\",147161.9],[\"miner\",1244281.927],[\"miner\",176525.25],[\"miner\",1211320.214],[\"miner\",64924.43902],[\"miner\",121214.6078],[\"miner\",147320.2333],[\"miner\",200200.0],[\"miner\",55881.5],[\"miner\",4173238.5],[\"miner\",1262886.083],[\"miner\",748519.0],[\"miner\",152908.1757],[\"miner\",745602.4],[\"miner\",277060.0278],[\"miner\",142291.128],[\"miner\",489695.1667],[\"miner\",304928.1149],[\"miner\",1892239.5],[\"miner\",229817.7],[\"miner\",1395071.929],[\"miner\",155916.25],[\"miner\",139874.5],[\"miner\",872767.95],[\"miner\",3463829.5]],\"hovertemplate\":\"label=%{customdata[0]}<br>inputsAmount_mean=%{x}<br>vout_sz_mean=%{y}<br>fee_mean=%{customdata[1]}<extra></extra>\",\"legendgroup\":\"miner\",\"marker\":{\"color\":\"#ab63fa\",\"symbol\":\"circle\"},\"mode\":\"markers\",\"name\":\"miner\",\"orientation\":\"v\",\"showlegend\":true,\"x\":[3525227051.0,2145050380.0,3116045730.0,6708544716.0,5467750194.0,6096801601.0,3299386042.0,1149697060.0,1419352451.0,1089548202.0,1325397340.0,41885680033.0,905326042.0,771948105.8,1067475156.0,620919674.0,404820551.0,1544609833.0,940885409.1,2440726852.0,823642798.9,1508656960.0,789168261.1,5162768598.0,774157404.3,2162676922.0,3115307970.0,418395432.4,1039261589.0,2319338502.0,3273798987.0,18035345790.0,7858956091.0],\"xaxis\":\"x\",\"y\":[17.5,8.692307692,30.90740741,14.0,103.2211538,5.277777778,29.07142857,15.25,8.1,28.29268293,26.75,30.35714286,17.12195122,15.52155172,28.5,2.0,7.0,8.833333333,15.91666667,16.125,9.986486486,4.4,16.52777778,7.868,206.0,5.011494253,10.0,4.2,14.35714286,30.25,34.5,4.35,21.625],\"yaxis\":\"y\",\"type\":\"scatter\"},{\"customdata\":[[\"services\",26025.0],[\"services\",28983.66667],[\"services\",789081.0],[\"services\",40000.0],[\"services\",52677.168],[\"services\",175208.0],[\"services\",68620.32813],[\"services\",53273.5],[\"services\",66621.5],[\"services\",620501.6667],[\"services\",212760.0],[\"services\",53678.10714],[\"services\",67299.6],[\"services\",218690.0],[\"services\",78803.0]],\"hovertemplate\":\"label=%{customdata[0]}<br>inputsAmount_mean=%{x}<br>vout_sz_mean=%{y}<br>fee_mean=%{customdata[1]}<extra></extra>\",\"legendgroup\":\"services\",\"marker\":{\"color\":\"#FFA15A\",\"symbol\":\"circle\"},\"mode\":\"markers\",\"name\":\"services\",\"orientation\":\"v\",\"showlegend\":true,\"x\":[22558025.75,47658630.0,216379255.2,1244720416.0,340249980.0,3283400000.0,7913945031.0,26439486.5,1519586017.0,2727437172.0,3615722464.0,223399042.9,3029184120.0,1073984547.0,256045416.5],\"xaxis\":\"x\",\"y\":[3.25,3.333333333,2.0,6.333333333,3.16,11.0,2135.791667,21.25,5.0,5.0,53.5,4.214285714,1.444,52.5,5.5],\"yaxis\":\"y\",\"type\":\"scatter\"}],                        {\"template\":{\"data\":{\"histogram2dcontour\":[{\"type\":\"histogram2dcontour\",\"colorbar\":{\"outlinewidth\":0,\"ticks\":\"\"},\"colorscale\":[[0.0,\"#0d0887\"],[0.1111111111111111,\"#46039f\"],[0.2222222222222222,\"#7201a8\"],[0.3333333333333333,\"#9c179e\"],[0.4444444444444444,\"#bd3786\"],[0.5555555555555556,\"#d8576b\"],[0.6666666666666666,\"#ed7953\"],[0.7777777777777778,\"#fb9f3a\"],[0.8888888888888888,\"#fdca26\"],[1.0,\"#f0f921\"]]}],\"choropleth\":[{\"type\":\"choropleth\",\"colorbar\":{\"outlinewidth\":0,\"ticks\":\"\"}}],\"histogram2d\":[{\"type\":\"histogram2d\",\"colorbar\":{\"outlinewidth\":0,\"ticks\":\"\"},\"colorscale\":[[0.0,\"#0d0887\"],[0.1111111111111111,\"#46039f\"],[0.2222222222222222,\"#7201a8\"],[0.3333333333333333,\"#9c179e\"],[0.4444444444444444,\"#bd3786\"],[0.5555555555555556,\"#d8576b\"],[0.6666666666666666,\"#ed7953\"],[0.7777777777777778,\"#fb9f3a\"],[0.8888888888888888,\"#fdca26\"],[1.0,\"#f0f921\"]]}],\"heatmap\":[{\"type\":\"heatmap\",\"colorbar\":{\"outlinewidth\":0,\"ticks\":\"\"},\"colorscale\":[[0.0,\"#0d0887\"],[0.1111111111111111,\"#46039f\"],[0.2222222222222222,\"#7201a8\"],[0.3333333333333333,\"#9c179e\"],[0.4444444444444444,\"#bd3786\"],[0.5555555555555556,\"#d8576b\"],[0.6666666666666666,\"#ed7953\"],[0.7777777777777778,\"#fb9f3a\"],[0.8888888888888888,\"#fdca26\"],[1.0,\"#f0f921\"]]}],\"heatmapgl\":[{\"type\":\"heatmapgl\",\"colorbar\":{\"outlinewidth\":0,\"ticks\":\"\"},\"colorscale\":[[0.0,\"#0d0887\"],[0.1111111111111111,\"#46039f\"],[0.2222222222222222,\"#7201a8\"],[0.3333333333333333,\"#9c179e\"],[0.4444444444444444,\"#bd3786\"],[0.5555555555555556,\"#d8576b\"],[0.6666666666666666,\"#ed7953\"],[0.7777777777777778,\"#fb9f3a\"],[0.8888888888888888,\"#fdca26\"],[1.0,\"#f0f921\"]]}],\"contourcarpet\":[{\"type\":\"contourcarpet\",\"colorbar\":{\"outlinewidth\":0,\"ticks\":\"\"}}],\"contour\":[{\"type\":\"contour\",\"colorbar\":{\"outlinewidth\":0,\"ticks\":\"\"},\"colorscale\":[[0.0,\"#0d0887\"],[0.1111111111111111,\"#46039f\"],[0.2222222222222222,\"#7201a8\"],[0.3333333333333333,\"#9c179e\"],[0.4444444444444444,\"#bd3786\"],[0.5555555555555556,\"#d8576b\"],[0.6666666666666666,\"#ed7953\"],[0.7777777777777778,\"#fb9f3a\"],[0.8888888888888888,\"#fdca26\"],[1.0,\"#f0f921\"]]}],\"surface\":[{\"type\":\"surface\",\"colorbar\":{\"outlinewidth\":0,\"ticks\":\"\"},\"colorscale\":[[0.0,\"#0d0887\"],[0.1111111111111111,\"#46039f\"],[0.2222222222222222,\"#7201a8\"],[0.3333333333333333,\"#9c179e\"],[0.4444444444444444,\"#bd3786\"],[0.5555555555555556,\"#d8576b\"],[0.6666666666666666,\"#ed7953\"],[0.7777777777777778,\"#fb9f3a\"],[0.8888888888888888,\"#fdca26\"],[1.0,\"#f0f921\"]]}],\"mesh3d\":[{\"type\":\"mesh3d\",\"colorbar\":{\"outlinewidth\":0,\"ticks\":\"\"}}],\"scatter\":[{\"fillpattern\":{\"fillmode\":\"overlay\",\"size\":10,\"solidity\":0.2},\"type\":\"scatter\"}],\"parcoords\":[{\"type\":\"parcoords\",\"line\":{\"colorbar\":{\"outlinewidth\":0,\"ticks\":\"\"}}}],\"scatterpolargl\":[{\"type\":\"scatterpolargl\",\"marker\":{\"colorbar\":{\"outlinewidth\":0,\"ticks\":\"\"}}}],\"bar\":[{\"error_x\":{\"color\":\"#2a3f5f\"},\"error_y\":{\"color\":\"#2a3f5f\"},\"marker\":{\"line\":{\"color\":\"#E5ECF6\",\"width\":0.5},\"pattern\":{\"fillmode\":\"overlay\",\"size\":10,\"solidity\":0.2}},\"type\":\"bar\"}],\"scattergeo\":[{\"type\":\"scattergeo\",\"marker\":{\"colorbar\":{\"outlinewidth\":0,\"ticks\":\"\"}}}],\"scatterpolar\":[{\"type\":\"scatterpolar\",\"marker\":{\"colorbar\":{\"outlinewidth\":0,\"ticks\":\"\"}}}],\"histogram\":[{\"marker\":{\"pattern\":{\"fillmode\":\"overlay\",\"size\":10,\"solidity\":0.2}},\"type\":\"histogram\"}],\"scattergl\":[{\"type\":\"scattergl\",\"marker\":{\"colorbar\":{\"outlinewidth\":0,\"ticks\":\"\"}}}],\"scatter3d\":[{\"type\":\"scatter3d\",\"line\":{\"colorbar\":{\"outlinewidth\":0,\"ticks\":\"\"}},\"marker\":{\"colorbar\":{\"outlinewidth\":0,\"ticks\":\"\"}}}],\"scattermapbox\":[{\"type\":\"scattermapbox\",\"marker\":{\"colorbar\":{\"outlinewidth\":0,\"ticks\":\"\"}}}],\"scatterternary\":[{\"type\":\"scatterternary\",\"marker\":{\"colorbar\":{\"outlinewidth\":0,\"ticks\":\"\"}}}],\"scattercarpet\":[{\"type\":\"scattercarpet\",\"marker\":{\"colorbar\":{\"outlinewidth\":0,\"ticks\":\"\"}}}],\"carpet\":[{\"aaxis\":{\"endlinecolor\":\"#2a3f5f\",\"gridcolor\":\"white\",\"linecolor\":\"white\",\"minorgridcolor\":\"white\",\"startlinecolor\":\"#2a3f5f\"},\"baxis\":{\"endlinecolor\":\"#2a3f5f\",\"gridcolor\":\"white\",\"linecolor\":\"white\",\"minorgridcolor\":\"white\",\"startlinecolor\":\"#2a3f5f\"},\"type\":\"carpet\"}],\"table\":[{\"cells\":{\"fill\":{\"color\":\"#EBF0F8\"},\"line\":{\"color\":\"white\"}},\"header\":{\"fill\":{\"color\":\"#C8D4E3\"},\"line\":{\"color\":\"white\"}},\"type\":\"table\"}],\"barpolar\":[{\"marker\":{\"line\":{\"color\":\"#E5ECF6\",\"width\":0.5},\"pattern\":{\"fillmode\":\"overlay\",\"size\":10,\"solidity\":0.2}},\"type\":\"barpolar\"}],\"pie\":[{\"automargin\":true,\"type\":\"pie\"}]},\"layout\":{\"autotypenumbers\":\"strict\",\"colorway\":[\"#636efa\",\"#EF553B\",\"#00cc96\",\"#ab63fa\",\"#FFA15A\",\"#19d3f3\",\"#FF6692\",\"#B6E880\",\"#FF97FF\",\"#FECB52\"],\"font\":{\"color\":\"#2a3f5f\"},\"hovermode\":\"closest\",\"hoverlabel\":{\"align\":\"left\"},\"paper_bgcolor\":\"white\",\"plot_bgcolor\":\"#E5ECF6\",\"polar\":{\"bgcolor\":\"#E5ECF6\",\"angularaxis\":{\"gridcolor\":\"white\",\"linecolor\":\"white\",\"ticks\":\"\"},\"radialaxis\":{\"gridcolor\":\"white\",\"linecolor\":\"white\",\"ticks\":\"\"}},\"ternary\":{\"bgcolor\":\"#E5ECF6\",\"aaxis\":{\"gridcolor\":\"white\",\"linecolor\":\"white\",\"ticks\":\"\"},\"baxis\":{\"gridcolor\":\"white\",\"linecolor\":\"white\",\"ticks\":\"\"},\"caxis\":{\"gridcolor\":\"white\",\"linecolor\":\"white\",\"ticks\":\"\"}},\"coloraxis\":{\"colorbar\":{\"outlinewidth\":0,\"ticks\":\"\"}},\"colorscale\":{\"sequential\":[[0.0,\"#0d0887\"],[0.1111111111111111,\"#46039f\"],[0.2222222222222222,\"#7201a8\"],[0.3333333333333333,\"#9c179e\"],[0.4444444444444444,\"#bd3786\"],[0.5555555555555556,\"#d8576b\"],[0.6666666666666666,\"#ed7953\"],[0.7777777777777778,\"#fb9f3a\"],[0.8888888888888888,\"#fdca26\"],[1.0,\"#f0f921\"]],\"sequentialminus\":[[0.0,\"#0d0887\"],[0.1111111111111111,\"#46039f\"],[0.2222222222222222,\"#7201a8\"],[0.3333333333333333,\"#9c179e\"],[0.4444444444444444,\"#bd3786\"],[0.5555555555555556,\"#d8576b\"],[0.6666666666666666,\"#ed7953\"],[0.7777777777777778,\"#fb9f3a\"],[0.8888888888888888,\"#fdca26\"],[1.0,\"#f0f921\"]],\"diverging\":[[0,\"#8e0152\"],[0.1,\"#c51b7d\"],[0.2,\"#de77ae\"],[0.3,\"#f1b6da\"],[0.4,\"#fde0ef\"],[0.5,\"#f7f7f7\"],[0.6,\"#e6f5d0\"],[0.7,\"#b8e186\"],[0.8,\"#7fbc41\"],[0.9,\"#4d9221\"],[1,\"#276419\"]]},\"xaxis\":{\"gridcolor\":\"white\",\"linecolor\":\"white\",\"ticks\":\"\",\"title\":{\"standoff\":15},\"zerolinecolor\":\"white\",\"automargin\":true,\"zerolinewidth\":2},\"yaxis\":{\"gridcolor\":\"white\",\"linecolor\":\"white\",\"ticks\":\"\",\"title\":{\"standoff\":15},\"zerolinecolor\":\"white\",\"automargin\":true,\"zerolinewidth\":2},\"scene\":{\"xaxis\":{\"backgroundcolor\":\"#E5ECF6\",\"gridcolor\":\"white\",\"linecolor\":\"white\",\"showbackground\":true,\"ticks\":\"\",\"zerolinecolor\":\"white\",\"gridwidth\":2},\"yaxis\":{\"backgroundcolor\":\"#E5ECF6\",\"gridcolor\":\"white\",\"linecolor\":\"white\",\"showbackground\":true,\"ticks\":\"\",\"zerolinecolor\":\"white\",\"gridwidth\":2},\"zaxis\":{\"backgroundcolor\":\"#E5ECF6\",\"gridcolor\":\"white\",\"linecolor\":\"white\",\"showbackground\":true,\"ticks\":\"\",\"zerolinecolor\":\"white\",\"gridwidth\":2}},\"shapedefaults\":{\"line\":{\"color\":\"#2a3f5f\"}},\"annotationdefaults\":{\"arrowcolor\":\"#2a3f5f\",\"arrowhead\":0,\"arrowwidth\":1},\"geo\":{\"bgcolor\":\"white\",\"landcolor\":\"#E5ECF6\",\"subunitcolor\":\"white\",\"showland\":true,\"showlakes\":true,\"lakecolor\":\"white\"},\"title\":{\"x\":0.05},\"mapbox\":{\"style\":\"light\"}}},\"xaxis\":{\"anchor\":\"y\",\"domain\":[0.0,1.0],\"title\":{\"text\":\"inputsAmount_mean\"}},\"yaxis\":{\"anchor\":\"x\",\"domain\":[0.0,1.0],\"title\":{\"text\":\"vout_sz_mean\"}},\"legend\":{\"title\":{\"text\":\"label\"},\"tracegroupgap\":0},\"title\":{\"text\":\"Cluster Average inputs Amount volume of Bitcoin out by Label\"}},                        {\"responsive\": true}                    ).then(function(){\n",
              "                            \n",
              "var gd = document.getElementById('b032ac30-2041-4259-953d-7035bffa52e1');\n",
              "var x = new MutationObserver(function (mutations, observer) {{\n",
              "        var display = window.getComputedStyle(gd).display;\n",
              "        if (!display || display === 'none') {{\n",
              "            console.log([gd, 'removed!']);\n",
              "            Plotly.purge(gd);\n",
              "            observer.disconnect();\n",
              "        }}\n",
              "}});\n",
              "\n",
              "// Listen for the removal of the full notebook cells\n",
              "var notebookContainer = gd.closest('#notebook-container');\n",
              "if (notebookContainer) {{\n",
              "    x.observe(notebookContainer, {childList: true});\n",
              "}}\n",
              "\n",
              "// Listen for the clearing of the current output cell\n",
              "var outputEl = gd.closest('.output');\n",
              "if (outputEl) {{\n",
              "    x.observe(outputEl, {childList: true});\n",
              "}}\n",
              "\n",
              "                        })                };                            </script>        </div>\n",
              "</body>\n",
              "</html>"
            ]
          },
          "metadata": {}
        }
      ]
    }
  ]
}